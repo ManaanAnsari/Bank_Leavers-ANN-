{
 "cells": [
  {
   "cell_type": "code",
   "execution_count": 1,
   "metadata": {},
   "outputs": [],
   "source": [
    "# Importing the libraries\n",
    "import numpy as np\n",
    "import matplotlib.pyplot as plt\n",
    "import pandas as pd"
   ]
  },
  {
   "cell_type": "code",
   "execution_count": 2,
   "metadata": {},
   "outputs": [],
   "source": [
    "# Importing the dataset\n",
    "dataset = pd.read_csv('Churn_Modelling.csv')\n",
    "X = dataset.iloc[:, 3:13].values\n",
    "y = dataset.iloc[:, 13].values"
   ]
  },
  {
   "cell_type": "code",
   "execution_count": 3,
   "metadata": {},
   "outputs": [
    {
     "name": "stderr",
     "output_type": "stream",
     "text": [
      "/home/li/anaconda3/envs/t1/lib/python3.7/site-packages/sklearn/preprocessing/_encoders.py:368: FutureWarning: The handling of integer data will change in version 0.22. Currently, the categories are determined based on the range [0, max(values)], while in the future they will be determined based on the unique values.\n",
      "If you want the future behaviour and silence this warning, you can specify \"categories='auto'\".\n",
      "In case you used a LabelEncoder before this OneHotEncoder to convert the categories to integers, then you can now use the OneHotEncoder directly.\n",
      "  warnings.warn(msg, FutureWarning)\n",
      "/home/li/anaconda3/envs/t1/lib/python3.7/site-packages/sklearn/preprocessing/_encoders.py:390: DeprecationWarning: The 'categorical_features' keyword is deprecated in version 0.20 and will be removed in 0.22. You can use the ColumnTransformer instead.\n",
      "  \"use the ColumnTransformer instead.\", DeprecationWarning)\n"
     ]
    }
   ],
   "source": [
    "# Data Preprocessing\n",
    "# Encoding categorical data\n",
    "from sklearn.preprocessing import LabelEncoder, OneHotEncoder\n",
    "labelencoder_X_1 = LabelEncoder()\n",
    "X[:, 1] = labelencoder_X_1.fit_transform(X[:, 1])\n",
    "labelencoder_X_2 = LabelEncoder()\n",
    "X[:, 2] = labelencoder_X_2.fit_transform(X[:, 2])\n",
    "onehotencoder = OneHotEncoder(categorical_features = [1])\n",
    "X = onehotencoder.fit_transform(X).toarray()\n",
    "X = X[:, 1:]"
   ]
  },
  {
   "cell_type": "code",
   "execution_count": 4,
   "metadata": {},
   "outputs": [],
   "source": [
    "# Splitting the dataset into the Training set and Test set\n",
    "from sklearn.model_selection import train_test_split\n",
    "X_train, X_test, y_train, y_test = train_test_split(X, y, test_size = 0.2, random_state = 0)"
   ]
  },
  {
   "cell_type": "code",
   "execution_count": 5,
   "metadata": {},
   "outputs": [],
   "source": [
    "# Feature Scaling\n",
    "from sklearn.preprocessing import StandardScaler\n",
    "sc = StandardScaler()\n",
    "X_train = sc.fit_transform(X_train)\n",
    "X_test = sc.transform(X_test)"
   ]
  },
  {
   "cell_type": "code",
   "execution_count": 6,
   "metadata": {},
   "outputs": [
    {
     "name": "stderr",
     "output_type": "stream",
     "text": [
      "Using TensorFlow backend.\n"
     ]
    }
   ],
   "source": [
    "# making ANN\n",
    "# Importing the Keras libraries and packages\n",
    "import keras\n",
    "from keras.models import Sequential\n",
    "from keras.layers import Dense"
   ]
  },
  {
   "cell_type": "code",
   "execution_count": 7,
   "metadata": {
    "scrolled": true
   },
   "outputs": [
    {
     "name": "stdout",
     "output_type": "stream",
     "text": [
      "WARNING:tensorflow:From /home/li/anaconda3/envs/t1/lib/python3.7/site-packages/tensorflow/python/framework/op_def_library.py:263: colocate_with (from tensorflow.python.framework.ops) is deprecated and will be removed in a future version.\n",
      "Instructions for updating:\n",
      "Colocations handled automatically by placer.\n",
      "WARNING:tensorflow:From /home/li/anaconda3/envs/t1/lib/python3.7/site-packages/tensorflow/python/ops/math_ops.py:3066: to_int32 (from tensorflow.python.ops.math_ops) is deprecated and will be removed in a future version.\n",
      "Instructions for updating:\n",
      "Use tf.cast instead.\n",
      "Epoch 1/50\n",
      "8000/8000 [==============================] - 1s 88us/step - loss: 0.4609 - acc: 0.7957\n",
      "Epoch 2/50\n",
      "8000/8000 [==============================] - 1s 64us/step - loss: 0.4221 - acc: 0.8121\n",
      "Epoch 3/50\n",
      "8000/8000 [==============================] - 1s 65us/step - loss: 0.4145 - acc: 0.8304\n",
      "Epoch 4/50\n",
      "8000/8000 [==============================] - 1s 65us/step - loss: 0.4098 - acc: 0.8344\n",
      "Epoch 5/50\n",
      "8000/8000 [==============================] - 1s 79us/step - loss: 0.4054 - acc: 0.8337\n",
      "Epoch 6/50\n",
      "8000/8000 [==============================] - 1s 78us/step - loss: 0.4035 - acc: 0.8352\n",
      "Epoch 7/50\n",
      "8000/8000 [==============================] - 1s 117us/step - loss: 0.4025 - acc: 0.8351\n",
      "Epoch 8/50\n",
      "8000/8000 [==============================] - 1s 67us/step - loss: 0.4009 - acc: 0.8347\n",
      "Epoch 9/50\n",
      "8000/8000 [==============================] - 1s 72us/step - loss: 0.3995 - acc: 0.8361\n",
      "Epoch 10/50\n",
      "8000/8000 [==============================] - 1s 70us/step - loss: 0.3987 - acc: 0.8341\n",
      "Epoch 11/50\n",
      "8000/8000 [==============================] - 1s 75us/step - loss: 0.3971 - acc: 0.8374\n",
      "Epoch 12/50\n",
      "8000/8000 [==============================] - 1s 70us/step - loss: 0.3969 - acc: 0.8382\n",
      "Epoch 13/50\n",
      "8000/8000 [==============================] - 1s 85us/step - loss: 0.3960 - acc: 0.8364\n",
      "Epoch 14/50\n",
      "8000/8000 [==============================] - 1s 68us/step - loss: 0.3967 - acc: 0.8370\n",
      "Epoch 15/50\n",
      "8000/8000 [==============================] - 1s 68us/step - loss: 0.3952 - acc: 0.8364\n",
      "Epoch 16/50\n",
      "8000/8000 [==============================] - 1s 70us/step - loss: 0.3956 - acc: 0.8351\n",
      "Epoch 17/50\n",
      "8000/8000 [==============================] - 1s 72us/step - loss: 0.3942 - acc: 0.8364\n",
      "Epoch 18/50\n",
      "8000/8000 [==============================] - 1s 79us/step - loss: 0.3943 - acc: 0.8382\n",
      "Epoch 19/50\n",
      "8000/8000 [==============================] - 1s 73us/step - loss: 0.3940 - acc: 0.8367\n",
      "Epoch 20/50\n",
      "8000/8000 [==============================] - 1s 66us/step - loss: 0.3929 - acc: 0.8400\n",
      "Epoch 21/50\n",
      "8000/8000 [==============================] - 1s 82us/step - loss: 0.3922 - acc: 0.8379\n",
      "Epoch 22/50\n",
      "8000/8000 [==============================] - 1s 72us/step - loss: 0.3921 - acc: 0.8377\n",
      "Epoch 23/50\n",
      "8000/8000 [==============================] - 1s 70us/step - loss: 0.3883 - acc: 0.8405\n",
      "Epoch 24/50\n",
      "8000/8000 [==============================] - 1s 85us/step - loss: 0.3744 - acc: 0.8479\n",
      "Epoch 25/50\n",
      "8000/8000 [==============================] - 1s 87us/step - loss: 0.3533 - acc: 0.8580\n",
      "Epoch 26/50\n",
      "8000/8000 [==============================] - 1s 72us/step - loss: 0.3429 - acc: 0.8615\n",
      "Epoch 27/50\n",
      "8000/8000 [==============================] - 1s 66us/step - loss: 0.3392 - acc: 0.8644\n",
      "Epoch 28/50\n",
      "8000/8000 [==============================] - 1s 86us/step - loss: 0.3365 - acc: 0.8615\n",
      "Epoch 29/50\n",
      "8000/8000 [==============================] - 1s 70us/step - loss: 0.3349 - acc: 0.8649\n",
      "Epoch 30/50\n",
      "8000/8000 [==============================] - 1s 85us/step - loss: 0.3334 - acc: 0.8621\n",
      "Epoch 31/50\n",
      "8000/8000 [==============================] - 1s 73us/step - loss: 0.3326 - acc: 0.8647\n",
      "Epoch 32/50\n",
      "8000/8000 [==============================] - 1s 91us/step - loss: 0.3323 - acc: 0.8629\n",
      "Epoch 33/50\n",
      "8000/8000 [==============================] - 1s 114us/step - loss: 0.3319 - acc: 0.8621\n",
      "Epoch 34/50\n",
      "8000/8000 [==============================] - 1s 70us/step - loss: 0.3310 - acc: 0.8642\n",
      "Epoch 35/50\n",
      "8000/8000 [==============================] - 1s 82us/step - loss: 0.3304 - acc: 0.8656\n",
      "Epoch 36/50\n",
      "8000/8000 [==============================] - 1s 83us/step - loss: 0.3310 - acc: 0.8664\n",
      "Epoch 37/50\n",
      "8000/8000 [==============================] - 1s 76us/step - loss: 0.3309 - acc: 0.8644\n",
      "Epoch 38/50\n",
      "8000/8000 [==============================] - 1s 78us/step - loss: 0.3302 - acc: 0.8636\n",
      "Epoch 39/50\n",
      "8000/8000 [==============================] - 1s 85us/step - loss: 0.3294 - acc: 0.8642\n",
      "Epoch 40/50\n",
      "8000/8000 [==============================] - 1s 77us/step - loss: 0.3293 - acc: 0.8636\n",
      "Epoch 41/50\n",
      "8000/8000 [==============================] - 1s 81us/step - loss: 0.3284 - acc: 0.8654\n",
      "Epoch 42/50\n",
      "8000/8000 [==============================] - 1s 80us/step - loss: 0.3285 - acc: 0.8656\n",
      "Epoch 43/50\n",
      "8000/8000 [==============================] - 1s 72us/step - loss: 0.3286 - acc: 0.8659\n",
      "Epoch 44/50\n",
      "8000/8000 [==============================] - 1s 69us/step - loss: 0.3275 - acc: 0.8647\n",
      "Epoch 45/50\n",
      "8000/8000 [==============================] - 1s 68us/step - loss: 0.3275 - acc: 0.8652\n",
      "Epoch 46/50\n",
      "8000/8000 [==============================] - 1s 73us/step - loss: 0.3288 - acc: 0.8654\n",
      "Epoch 47/50\n",
      "8000/8000 [==============================] - 1s 69us/step - loss: 0.3271 - acc: 0.8649\n",
      "Epoch 48/50\n",
      "8000/8000 [==============================] - 1s 68us/step - loss: 0.3272 - acc: 0.8684\n",
      "Epoch 49/50\n",
      "8000/8000 [==============================] - 1s 73us/step - loss: 0.3267 - acc: 0.8667\n",
      "Epoch 50/50\n",
      "8000/8000 [==============================] - 1s 76us/step - loss: 0.3271 - acc: 0.8651\n"
     ]
    },
    {
     "data": {
      "text/plain": [
       "<keras.callbacks.History at 0x7f81a517deb8>"
      ]
     },
     "execution_count": 7,
     "metadata": {},
     "output_type": "execute_result"
    }
   ],
   "source": [
    "# Initialising the ANN\n",
    "classifier = Sequential()\n",
    "\n",
    "# Adding the input layer and the first hidden layer\n",
    "classifier.add(Dense(units = 16, kernel_initializer = 'uniform', activation = 'relu', input_dim = 11))\n",
    "\n",
    "# Adding the second hidden layer\n",
    "classifier.add(Dense(units = 16, kernel_initializer = 'uniform', activation = 'relu'))\n",
    "\n",
    "# Adding the output layer\n",
    "classifier.add(Dense(units = 1, kernel_initializer = 'uniform', activation = 'sigmoid'))\n",
    "\n",
    "# Compiling the ANN\n",
    "classifier.compile(optimizer = 'adam', loss = 'binary_crossentropy', metrics = ['accuracy'])\n",
    "\n",
    "# Fitting the ANN to the Training set\n",
    "classifier.fit(X_train, y_train, batch_size = 10, epochs = 50)"
   ]
  },
  {
   "cell_type": "code",
   "execution_count": 8,
   "metadata": {},
   "outputs": [],
   "source": [
    "# Making predictions and evaluating the model\n",
    "\n",
    "# Predicting the Test set results\n",
    "y_pred = classifier.predict(X_test)\n",
    "y_pred = (y_pred > 0.5)\n"
   ]
  },
  {
   "cell_type": "code",
   "execution_count": 9,
   "metadata": {},
   "outputs": [],
   "source": [
    "# Making the Confusion Matrix\n",
    "from sklearn.metrics import confusion_matrix\n",
    "cm = confusion_matrix(y_test, y_pred)"
   ]
  },
  {
   "cell_type": "code",
   "execution_count": 10,
   "metadata": {},
   "outputs": [
    {
     "data": {
      "text/plain": [
       "array([[1524,   71],\n",
       "       [ 200,  205]])"
      ]
     },
     "execution_count": 10,
     "metadata": {},
     "output_type": "execute_result"
    }
   ],
   "source": [
    "cm"
   ]
  },
  {
   "cell_type": "code",
   "execution_count": 11,
   "metadata": {},
   "outputs": [
    {
     "data": {
      "text/plain": [
       "0.8645"
      ]
     },
     "execution_count": 11,
     "metadata": {},
     "output_type": "execute_result"
    }
   ],
   "source": [
    "#accuracy on test set\n",
    "(1524+205)/2000"
   ]
  },
  {
   "cell_type": "code",
   "execution_count": null,
   "metadata": {},
   "outputs": [],
   "source": []
  }
 ],
 "metadata": {
  "kernelspec": {
   "display_name": "Python 3",
   "language": "python",
   "name": "python3"
  },
  "language_info": {
   "codemirror_mode": {
    "name": "ipython",
    "version": 3
   },
   "file_extension": ".py",
   "mimetype": "text/x-python",
   "name": "python",
   "nbconvert_exporter": "python",
   "pygments_lexer": "ipython3",
   "version": "3.7.1"
  }
 },
 "nbformat": 4,
 "nbformat_minor": 2
}
